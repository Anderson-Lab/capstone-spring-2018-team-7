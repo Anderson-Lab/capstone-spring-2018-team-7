{
 "cells": [
  {
   "cell_type": "markdown",
   "metadata": {},
   "source": [
    "Takes stoplist.json, extracts the titles, and saves them in a csv"
   ]
  },
  {
   "cell_type": "code",
   "execution_count": null,
   "metadata": {
    "collapsed": true
   },
   "outputs": [],
   "source": [
    "import json\n",
    "import csv"
   ]
  },
  {
   "cell_type": "code",
   "execution_count": 6,
   "metadata": {},
   "outputs": [],
   "source": [
    "dir='/Users/katiebalcewicz/capstone-spring-2018-team-7/stoplist.json'\n",
    "json_data=open(dir).read()\n",
    "json_data = json_data.replace(\": undefined\",\": \\\"undefined\\\"\")\n",
    "data = json.loads(json_data)\n",
    "stoplist = []\n",
    "for i in range(0, len(data)):\n",
    "    stoplist.append(data[i][\"title\"])"
   ]
  },
  {
   "cell_type": "code",
   "execution_count": 11,
   "metadata": {},
   "outputs": [],
   "source": [
    "with open('stoplist.csv', 'w') as f:\n",
    "    writer = csv.writer(f)\n",
    "    for val in stoplist:\n",
    "        writer.writerow([val])"
   ]
  },
  {
   "cell_type": "code",
   "execution_count": null,
   "metadata": {
    "collapsed": true
   },
   "outputs": [],
   "source": []
  }
 ],
 "metadata": {
  "kernelspec": {
   "display_name": "Python 3",
   "language": "python",
   "name": "python3"
  },
  "language_info": {
   "codemirror_mode": {
    "name": "ipython",
    "version": 3
   },
   "file_extension": ".py",
   "mimetype": "text/x-python",
   "name": "python",
   "nbconvert_exporter": "python",
   "pygments_lexer": "ipython3",
   "version": "3.6.1"
  }
 },
 "nbformat": 4,
 "nbformat_minor": 2
}
