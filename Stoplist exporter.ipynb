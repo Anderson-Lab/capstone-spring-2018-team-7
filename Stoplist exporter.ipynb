{
 "cells": [
  {
   "cell_type": "markdown",
   "metadata": {},
   "source": [
    "Takes stoplist.json, extracts the titles, and saves them in a csv"
   ]
  },
  {
   "cell_type": "code",
   "execution_count": null,
   "metadata": {
    "collapsed": true
   },
   "outputs": [],
   "source": [
    "import json\n",
    "import csv"
   ]
  },
  {
   "cell_type": "code",
   "execution_count": 6,
   "metadata": {
    "collapsed": true
   },
   "outputs": [],
   "source": [
    "dir='/Users/katiebalcewicz/capstone-spring-2018-team-7/stoplist.json'\n",
    "json_data=open(dir).read()\n",
    "json_data = json_data.replace(\": undefined\",\": \\\"undefined\\\"\")\n",
    "data = json.loads(json_data)\n",
    "stoplist = []\n",
    "for i in range(0, len(data)):\n",
    "    stoplist.append(data[i][\"title\"])"
   ]
  },
  {
   "cell_type": "code",
   "execution_count": 11,
   "metadata": {
    "collapsed": true
   },
   "outputs": [],
   "source": [
    "with open('stoplist.csv', 'w') as f:\n",
    "    writer = csv.writer(f)\n",
    "    for val in stoplist:\n",
    "        writer.writerow([val])"
   ]
  },
  {
   "cell_type": "code",
   "execution_count": 9,
   "metadata": {},
   "outputs": [
    {
     "name": "stdout",
     "output_type": "stream",
     "text": [
      "                             title\n",
      "0                          Netflix\n",
      "1                    Pandora Music\n",
      "2                           Tinder\n",
      "3   YouTube: Watch, Listen, Stream\n",
      "4                 Candy Crush Saga\n",
      "5                         Fortnite\n",
      "6                       Pokémon GO\n",
      "7      MARVEL Contest of Champions\n",
      "8    Hulu: Watch TV Shows & Movies\n",
      "9                          HBO NOW\n",
      "10                  Clash of Clans\n",
      "11                            优酷视频\n",
      "12           Candy Crush Soda Saga\n",
      "13  Slotomania Slots: Vegas Casino\n",
      "14                     Design Home\n",
      "15        Bumble - Meet New People\n",
      "16                     Hearthstone\n",
      "17                       Toy Blast\n",
      "18                      Toon Blast\n",
      "19  Final Fantasy XV: A New Empire\n",
      "20                      Homescapes\n",
      "21                    CSR Racing 2\n",
      "22       Love Nikki-Dress UP Queen\n",
      "23    Star Wars™: Galaxy of Heroes\n",
      "24                    Gardenscapes\n",
      "25              Fire Emblem Heroes\n",
      "26                  Sing! by Smule\n",
      "27                             爱奇艺\n",
      "28                          ROBLOX\n",
      "29                   YouTube Music\n",
      "..                             ...\n",
      "45  BetterMe: Weight Loss Workouts\n",
      "46  DoubleDown Casino Slots & More\n",
      "47           Zoosk - #1 Dating App\n",
      "48    MLB Tap Sports Baseball 2018\n",
      "49      SoundCloud - Music & Audio\n",
      "50                     iHeartRadio\n",
      "51      Fate/Grand Order (English)\n",
      "52  HotspotShield VPN & Wifi Proxy\n",
      "53                    Lords Mobile\n",
      "54    World Series of Poker - WSOP\n",
      "55  King of Avalon: Dragon Warfare\n",
      "56                    MyFitnessPal\n",
      "57                         Dropbox\n",
      "58                         Fishdom\n",
      "59                      POF Dating\n",
      "60   Heart of Vegas – Slots Casino\n",
      "61   MileIQ: Mileage Log for Taxes\n",
      "62     Episode - Choose Your Story\n",
      "63                            Calm\n",
      "64                      Golf Clash\n",
      "65  Cashman Casino Vegas Slot Game\n",
      "66    Sweat: Kayla Itsines Fitness\n",
      "67                    少年三国志-全新武将登场\n",
      "68  TuneIn Radio: Music & Podcasts\n",
      "69                          HOOKED\n",
      "70    Empires & Puzzles: RPG Quest\n",
      "71   Slot Machines - Huuuge Casino\n",
      "72  POP! Slots – Casino Slot Games\n",
      "73                        Township\n",
      "74                   Angry Birds 2\n",
      "\n",
      "[75 rows x 1 columns]\n"
     ]
    }
   ],
   "source": [
    "import pandas as pd\n",
    "stoplist_df = pd.read_csv('/Users/katiebalcewicz/capstone-spring-2018-team-7/stoplist.csv', header = None, names=[\"title\"])\n",
    "stoplist_str = stoplist_df['title'].tolist()\n",
    "print(stoplist_df)\n"
   ]
  },
  {
   "cell_type": "code",
   "execution_count": 8,
   "metadata": {},
   "outputs": [
    {
     "name": "stdout",
     "output_type": "stream",
     "text": [
      "None\n"
     ]
    }
   ],
   "source": [
    "print(stoplist_str.sort())"
   ]
  },
  {
   "cell_type": "code",
   "execution_count": null,
   "metadata": {
    "collapsed": true
   },
   "outputs": [],
   "source": []
  }
 ],
 "metadata": {
  "kernelspec": {
   "display_name": "Python 3",
   "language": "python",
   "name": "python3"
  },
  "language_info": {
   "codemirror_mode": {
    "name": "ipython",
    "version": 3
   },
   "file_extension": ".py",
   "mimetype": "text/x-python",
   "name": "python",
   "nbconvert_exporter": "python",
   "pygments_lexer": "ipython3",
   "version": "3.6.1"
  }
 },
 "nbformat": 4,
 "nbformat_minor": 2
}
