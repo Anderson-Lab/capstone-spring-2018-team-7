{
 "cells": [
  {
   "cell_type": "code",
   "execution_count": 13,
   "metadata": {
    "collapsed": true
   },
   "outputs": [],
   "source": [
    "import json\n",
    "import os\n",
    "import pymongo\n",
    "import re\n",
    "import yaml\n",
    "import string\n",
    "import demjson"
   ]
  },
  {
   "cell_type": "code",
   "execution_count": 23,
   "metadata": {},
   "outputs": [
    {
     "name": "stdout",
     "output_type": "stream",
     "text": [
      "19\n",
      "{'title': 'Knife Hit', 'summary': 'The ultimate knife challenge!', 'icon': '//lh3.googleusercontent.com/Ew7rWCeUu76dCNB1KG0Bw8tOB54VqicKBB8s5tFRHM4jY8ElkfGyYo6Mpyq8BxZHM0o=w300', 'price': '0', 'free': True, 'minInstalls': 5000000, 'maxInstalls': 10000000, 'score': 4.4, 'reviews': 35626, 'developer': 'Ketchapp', 'developerId': '6054197513203380012', 'developerEmail': 'support@ketchappgames.com', 'developerWebsite': 'http://www.ketchappgames.com', 'developerAddress': 'UBISOFT MOBILE GAMES\\n38-42 rue Cuvier\\n93100 Montreuil Sous Bois\\nFRANCE', 'updated': 'February 18, 2018', 'version': '1.3.2', 'genre': 'Arcade', 'genreId': 'GAME_ARCADE', 'familyGenre': demjson.undefined, 'familyGenreId': demjson.undefined, 'size': demjson.undefined, 'description': 'The ultimate knife challenge is here!Throw the knives into the logs to break them. Slash the apples and unlock new knives. Each 5th stage is defended by a boss - beat them to get exclusive knives! Be careful to not hit the knives or the spikes. Time your actions, target carefully and become the knife master!Can you beat all the bosses?', 'descriptionHTML': 'The ultimate knife challenge is here!<br><br>Throw the knives into the logs to break them. Slash the apples and unlock new knives. Each 5th stage is defended by a boss - beat them to get exclusive knives! <br><br>Be careful to not hit the knives or the spikes. Time your actions, target carefully and become the knife master!<br><br>Can you beat all the bosses?', 'histogram': {'1': 3048, '2': 600, '3': 1781, '4': 3945, '5': 26252}, 'offersIAP': True, 'adSupported': True, 'androidVersionText': '4.0.3 and up', 'androidVersion': '4.0.3', 'contentRating': 'PEGI 3', 'screenshots': ['//lh3.googleusercontent.com/cNJRYJWyukY4LLFnuy8BUAUaqOmdTolHcgay_ix7q8oKnuims4rMX7a_qxhLgwgQIw=h310', '//lh3.googleusercontent.com/GurnEM2WmP3AiH_TnUDnMNiaU5a1IKZQbxuWm-D8s2_ef5b-MT3ow3ZyORwzJG68VRY=h310', '//lh3.googleusercontent.com/pnvr9y04XmiDIHKZIhSDU_ROqyMtyWKcK-c_B4JiTMrr_INoOnRIHL3bzvNySMYncuA=h310', '//lh3.googleusercontent.com/C31y9TMIjI1vWQWegu9RabTC0PkS_dROYNC78FHyaKYxE_bshKwINe_-cZMaJazkOsI=h310', '//lh3.googleusercontent.com/okkOQJZSNUDxY0OpsvDhoaLyzNi9qpwMqst9MkikCV0IZfd5tmfNA1KbBPh8KdatHg=h310', '//lh3.googleusercontent.com/G0zNMaSKEK6fxUo7dKF-hSMzpTwCB0ifXvvqqgrRdN5jt40Cii5iesiZVG1sMblXCjM=h310', '//lh3.googleusercontent.com/20GDT_lFFs2qdX2xY8Mww9GaM2DdnAse8Lmbo6uFXX7xOhRcVWlmS7KYlHnSnYmzrFvw=h310', '//lh3.googleusercontent.com/FRwg-Zws9WO3WCb5YMZCNVTp_KQo0ZLM77Sbx1u4axrQdl7b1sKHGxG5EAFUScVFJydI=h310', '//lh3.googleusercontent.com/4-a2fcEqxAX8H1BdBjcc94AEyQJXLo0L2x9V9yCdO77u9Ln3OZKhBBZFvSvR2-Do2sI=h310', '//lh3.googleusercontent.com/oSycj3_8BZVLmm21FAYz2F6hxDc6MC2bf20ovXcMWgC6P0rVT-n0zZ2VQH4FA3w9e-xv=h310', '//lh3.googleusercontent.com/TEkC4GEQG9mzwID3un0OIOLWitttcn0IE5x6zKTFg3TD8_tRak_1jXrjLw5OQ1dJVOU=h310', '//lh3.googleusercontent.com/ZsLiqwJnQIdxk07aCZIiie-ajm3vrg-Nlo8K9DEd-dpYeqNMAM0gYlSF-A0ffYxjdCI=h310', '//lh3.googleusercontent.com/A-2fh4YQ9IeZ5uM1CmjAy7-Eit7QiY1PD2vf5ZfC_uyMPV4aLv77Vg1p7oODqO9V8n4=h310', '//lh3.googleusercontent.com/7nGck_0Y4sLCJIRf_uSw94AjqS4nwCQ4Wkw2XGESHLGCOuJVS-KhgbmIuw1c1frwPA=h310', '//lh3.googleusercontent.com/DT0-F9ODlTxy0gUxOAaHucm_9zceeyfb--kf4XbUpLAGr5PrMfEJ330ixoumM2xfkI0=h310'], 'video': demjson.undefined, 'comments': [\"Two words: unlikable ads. Adds pop up befnore you open the game, after at advertises itself, shows another ad, then you get to play, with an add at the bottom. And after your first touch you get another ad that is very difficult not to open. I should have known, it's made by ketchapp. Very unsatisfied. They make so much money and adds and put so many so they annoy you into paying them money for less adds. Greedy.\", \"Deleted all my data with no reason. Had a bunch of Legendaries and Rares that have now been deleted. I put a lot of time into this game, and even bought the ad-free package. If you don't want a load of wasted time, don't download this app.  Edit- Updated the app and levelled up a bit. The game crashes every time I get a free revive. Still a massive waste of time.\", \"I hope you take the time to read.   This game is amazing, and it just keeps getting better. I do wish you would change the video knives to apples or video. Now I have nothing to spend apples on.  But here is what i really wanted to say i really like this company and the games you put out to your users. I'm newly paralyzed and I been well adapting to my new life and because my hands dont work like they used to these games kept my mind busy and has helped me. I own alot of your games and have spent alot trying to help. I wish I had more to unlock things in time. But Thank you very much.\", 'Ads interrupt gameplay and are extremely aggravating. The video that you have to watch to continue your gameplay never works. The game crashes when xp increases. I personally dislike this game, and it would be better if these issues were resolved. Thank you for taking time out of your day to read this review.', \"The game sucks it's alwful. It's gliching non stop for your bad. There are ADS everywhere! Ketchapp you getting worse and worse. There are ads of stupid games everywhere. What a game maker will pay to another game to show them in ADS! That makes the game in the ad even worse. Please ketchapp I was a big fan of you but you made your games so STUPIT. PLEASE FIX YOUR GAMES!\", 'The game was amazing! There was only 1 problem. Sometimes when i  started a game in the middle of it, it would just show an ad and it would make me lose. Unless you fix this my rating will be 4 stars. Fix this and the rate will be 5 stars'], 'recentChanges': ['◉ LEVEL UP system added!', '◉ Defeat bosses to get XP!', '◉ Level up to unlock unique power-ups!', '◉ New Knife Pack added!'], 'preregister': False, 'url': 'https://play.google.com/store/apps/details?id=com.ketchapp.knifehit&hl=en&gl=at', 'appId': 'com.ketchapp.knifehit'}\n",
      "{'title': 'Knife Hit', 'summary': 'The ultimate knife challenge!', 'icon': '//lh3.googleusercontent.com/Ew7rWCeUu76dCNB1KG0Bw8tOB54VqicKBB8s5tFRHM4jY8ElkfGyYo6Mpyq8BxZHM0o=w300', 'price': '0', 'free': True, 'minInstalls': 5000000, 'maxInstalls': 10000000, 'score': 4.4, 'reviews': 35626, 'developer': 'Ketchapp', 'developerId': '6054197513203380012', 'developerEmail': 'support@ketchappgames.com', 'developerWebsite': 'http://www.ketchappgames.com', 'developerAddress': 'UBISOFT MOBILE GAMES\\n38-42 rue Cuvier\\n93100 Montreuil Sous Bois\\nFRANCE', 'updated': 'February 18, 2018', 'version': '1.3.2', 'genre': 'Arcade', 'genreId': 'GAME_ARCADE', 'familyGenre': demjson.undefined, 'familyGenreId': demjson.undefined, 'size': demjson.undefined, 'description': 'The ultimate knife challenge is here!Throw the knives into the logs to break them. Slash the apples and unlock new knives. Each 5th stage is defended by a boss - beat them to get exclusive knives! Be careful to not hit the knives or the spikes. Time your actions, target carefully and become the knife master!Can you beat all the bosses?', 'descriptionHTML': 'The ultimate knife challenge is here!<br><br>Throw the knives into the logs to break them. Slash the apples and unlock new knives. Each 5th stage is defended by a boss - beat them to get exclusive knives! <br><br>Be careful to not hit the knives or the spikes. Time your actions, target carefully and become the knife master!<br><br>Can you beat all the bosses?', 'histogram': {'1': 3048, '2': 600, '3': 1781, '4': 3945, '5': 26252}, 'offersIAP': True, 'adSupported': True, 'androidVersionText': '4.0.3 and up', 'androidVersion': '4.0.3', 'contentRating': 'PEGI 3', 'screenshots': ['//lh3.googleusercontent.com/cNJRYJWyukY4LLFnuy8BUAUaqOmdTolHcgay_ix7q8oKnuims4rMX7a_qxhLgwgQIw=h310', '//lh3.googleusercontent.com/GurnEM2WmP3AiH_TnUDnMNiaU5a1IKZQbxuWm-D8s2_ef5b-MT3ow3ZyORwzJG68VRY=h310', '//lh3.googleusercontent.com/pnvr9y04XmiDIHKZIhSDU_ROqyMtyWKcK-c_B4JiTMrr_INoOnRIHL3bzvNySMYncuA=h310', '//lh3.googleusercontent.com/C31y9TMIjI1vWQWegu9RabTC0PkS_dROYNC78FHyaKYxE_bshKwINe_-cZMaJazkOsI=h310', '//lh3.googleusercontent.com/okkOQJZSNUDxY0OpsvDhoaLyzNi9qpwMqst9MkikCV0IZfd5tmfNA1KbBPh8KdatHg=h310', '//lh3.googleusercontent.com/G0zNMaSKEK6fxUo7dKF-hSMzpTwCB0ifXvvqqgrRdN5jt40Cii5iesiZVG1sMblXCjM=h310', '//lh3.googleusercontent.com/20GDT_lFFs2qdX2xY8Mww9GaM2DdnAse8Lmbo6uFXX7xOhRcVWlmS7KYlHnSnYmzrFvw=h310', '//lh3.googleusercontent.com/FRwg-Zws9WO3WCb5YMZCNVTp_KQo0ZLM77Sbx1u4axrQdl7b1sKHGxG5EAFUScVFJydI=h310', '//lh3.googleusercontent.com/4-a2fcEqxAX8H1BdBjcc94AEyQJXLo0L2x9V9yCdO77u9Ln3OZKhBBZFvSvR2-Do2sI=h310', '//lh3.googleusercontent.com/oSycj3_8BZVLmm21FAYz2F6hxDc6MC2bf20ovXcMWgC6P0rVT-n0zZ2VQH4FA3w9e-xv=h310', '//lh3.googleusercontent.com/TEkC4GEQG9mzwID3un0OIOLWitttcn0IE5x6zKTFg3TD8_tRak_1jXrjLw5OQ1dJVOU=h310', '//lh3.googleusercontent.com/ZsLiqwJnQIdxk07aCZIiie-ajm3vrg-Nlo8K9DEd-dpYeqNMAM0gYlSF-A0ffYxjdCI=h310', '//lh3.googleusercontent.com/A-2fh4YQ9IeZ5uM1CmjAy7-Eit7QiY1PD2vf5ZfC_uyMPV4aLv77Vg1p7oODqO9V8n4=h310', '//lh3.googleusercontent.com/7nGck_0Y4sLCJIRf_uSw94AjqS4nwCQ4Wkw2XGESHLGCOuJVS-KhgbmIuw1c1frwPA=h310', '//lh3.googleusercontent.com/DT0-F9ODlTxy0gUxOAaHucm_9zceeyfb--kf4XbUpLAGr5PrMfEJ330ixoumM2xfkI0=h310'], 'video': demjson.undefined, 'comments': [\"Two words: unlikable ads. Adds pop up befnore you open the game, after at advertises itself, shows another ad, then you get to play, with an add at the bottom. And after your first touch you get another ad that is very difficult not to open. I should have known, it's made by ketchapp. Very unsatisfied. They make so much money and adds and put so many so they annoy you into paying them money for less adds. Greedy.\", \"Deleted all my data with no reason. Had a bunch of Legendaries and Rares that have now been deleted. I put a lot of time into this game, and even bought the ad-free package. If you don't want a load of wasted time, don't download this app.  Edit- Updated the app and levelled up a bit. The game crashes every time I get a free revive. Still a massive waste of time.\", \"I hope you take the time to read.   This game is amazing, and it just keeps getting better. I do wish you would change the video knives to apples or video. Now I have nothing to spend apples on.  But here is what i really wanted to say i really like this company and the games you put out to your users. I'm newly paralyzed and I been well adapting to my new life and because my hands dont work like they used to these games kept my mind busy and has helped me. I own alot of your games and have spent alot trying to help. I wish I had more to unlock things in time. But Thank you very much.\", 'Ads interrupt gameplay and are extremely aggravating. The video that you have to watch to continue your gameplay never works. The game crashes when xp increases. I personally dislike this game, and it would be better if these issues were resolved. Thank you for taking time out of your day to read this review.', \"The game sucks it's alwful. It's gliching non stop for your bad. There are ADS everywhere! Ketchapp you getting worse and worse. There are ads of stupid games everywhere. What a game maker will pay to another game to show them in ADS! That makes the game in the ad even worse. Please ketchapp I was a big fan of you but you made your games so STUPIT. PLEASE FIX YOUR GAMES!\", 'The game was amazing! There was only 1 problem. Sometimes when i  started a game in the middle of it, it would just show an ad and it would make me lose. Unless you fix this my rating will be 4 stars. Fix this and the rate will be 5 stars'], 'recentChanges': ['◉ LEVEL UP system added!', '◉ Defeat bosses to get XP!', '◉ Level up to unlock unique power-ups!', '◉ New Knife Pack added!'], 'preregister': False, 'url': 'https://play.google.com/store/apps/details?id=com.ketchapp.knifehit&hl=en&gl=at', 'appId': 'com.ketchapp.knifehit', 'country': 'test', 'chart': 'chart', 'date': '2018-02-27'}\n"
     ]
    }
   ],
   "source": [
    "dir='/Users/katiebalcewicz/capstone-spring-2018-team-7/collect_data/android'\n",
    "connection = pymongo.MongoClient(\"mongodb://localhost\")\n",
    "db = connection.apps\n",
    "temp = db.temp\n",
    "for filename in os.listdir(dir):\n",
    "    filepath = dir+'/'+filename\n",
    "    if not filename == \"test_chart_2018-02-27.json\":\n",
    "        continue\n",
    "    split = re.split('_|\\.',filename)\n",
    "    country = split[0]\n",
    "    #print(country)\n",
    "    chart = split[1]\n",
    "    #print(chart)\n",
    "    date = split[2]\n",
    "    #print(date)\n",
    "    data = open(filepath).read()\n",
    "    #print(data)\n",
    "    obj = demjson.decode(data)\n",
    "    #print(obj)\n",
    "    print(len(obj))\n",
    "    print(obj[0])\n",
    "    obj[0][\"country\"] = country\n",
    "    obj[0][\"chart\"] = chart\n",
    "    obj[0][\"date\"] = date\n",
    "    print(obj[0])\n"
   ]
  },
  {
   "cell_type": "code",
   "execution_count": null,
   "metadata": {
    "collapsed": true
   },
   "outputs": [],
   "source": []
  }
 ],
 "metadata": {
  "kernelspec": {
   "display_name": "Python 3",
   "language": "python",
   "name": "python3"
  },
  "language_info": {
   "codemirror_mode": {
    "name": "ipython",
    "version": 3
   },
   "file_extension": ".py",
   "mimetype": "text/x-python",
   "name": "python",
   "nbconvert_exporter": "python",
   "pygments_lexer": "ipython3",
   "version": "3.6.1"
  }
 },
 "nbformat": 4,
 "nbformat_minor": 2
}
